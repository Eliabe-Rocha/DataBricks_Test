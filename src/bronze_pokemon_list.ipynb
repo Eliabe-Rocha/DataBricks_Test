{
 "cells": [
  {
   "cell_type": "code",
   "execution_count": 0,
   "metadata": {
    "application/vnd.databricks.v1+cell": {
     "cellMetadata": {
      "byteLimit": 2048000,
      "rowLimit": 10000
     },
     "inputWidgets": {},
     "nuid": "0250b50d-38ac-4ce6-8fab-8f0846f815c4",
     "showTitle": false,
     "tableResultSettingsMap": {},
     "title": ""
    }
   },
   "outputs": [],
   "source": [
    "# Transformando o arquivo bruto em tabela\n",
    "\n",
    "df = spark.read.json(\"/Volumes/raw/pokemon/pokemonraw/pokemons_list\")\n",
    "\n",
    "(df.distinct()\n",
    " .coalesce(1)\n",
    " .write\n",
    " .format(\"delta\")\n",
    " .mode('overwrite')\n",
    " .saveAsTable('bronze.pokemon.pokemon_list'))"
   ]
  },
  {
   "cell_type": "code",
   "execution_count": 0,
   "metadata": {
    "application/vnd.databricks.v1+cell": {
     "cellMetadata": {
      "byteLimit": 2048000,
      "implicitDf": true,
      "rowLimit": 10000
     },
     "inputWidgets": {},
     "nuid": "eeb02ca7-5720-44dd-9ab9-60125f03f7a4",
     "showTitle": false,
     "tableResultSettingsMap": {},
     "title": ""
    }
   },
   "outputs": [],
   "source": [
    "#   TESTE DE SALVAMENTO E EXECUÇÃO \n",
    "\n",
    "%sql\n",
    "SELECT * FROM bronze.pokemon.pokemon_list"
   ]
  }
 ],
 "metadata": {
  "application/vnd.databricks.v1+notebook": {
   "computePreferences": null,
   "dashboards": [],
   "environmentMetadata": {
    "base_environment": "",
    "environment_version": "2"
   },
   "language": "python",
   "notebookMetadata": {
    "mostRecentlyExecutedCommandWithImplicitDF": {
     "commandId": 8921515519849356,
     "dataframes": [
      "_sqldf"
     ]
    },
    "pythonIndentUnit": 4
   },
   "notebookName": "bronze_pokemon_list",
   "widgets": {}
  },
  "language_info": {
   "name": "python"
  }
 },
 "nbformat": 4,
 "nbformat_minor": 0
}
